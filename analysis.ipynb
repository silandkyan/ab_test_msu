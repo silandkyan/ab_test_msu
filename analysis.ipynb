{
 "cells": [
  {
   "cell_type": "markdown",
   "id": "e985ee59-4141-44a1-a769-da6b5113e9ce",
   "metadata": {},
   "source": [
    "# Load packages and data"
   ]
  },
  {
   "cell_type": "code",
   "execution_count": 1,
   "id": "c1c00ffe-f72e-4e5a-b68a-603abb74a555",
   "metadata": {},
   "outputs": [],
   "source": [
    "import pandas as pd"
   ]
  },
  {
   "cell_type": "code",
   "execution_count": 71,
   "id": "0955eccc-5891-4289-b532-797f55a7a8cf",
   "metadata": {},
   "outputs": [],
   "source": [
    "# define relative paths to data files\n",
    "interact_path = './CrazyEgg_data/Homepage Version 1 - Interact, 5-29-2013/Element list Homepage Version 1 - Interact, 5-29-2013.csv'\n",
    "connect_path = './CrazyEgg_data/Homepage Version 2 - Connect, 5-29-2013/Element list Homepage Version 2 - Connect, 5-29-2013.csv'\n",
    "learn_path = './CrazyEgg_data/Homepage Version 3 - Learn, 5-29-2013/Element list Homepage Version 3 - Learn, 5-29-2013.csv'\n",
    "help_path = './CrazyEgg_data/Homepage Version 4 - Help, 5-29-2013/Element list Homepage Version 4 - Help, 5-29-2013.csv'\n",
    "services_path = './CrazyEgg_data/Homepage Version 5 - Services, 5-29-2013/Element list Homepage Version 5 - Services, 5-29-2013.csv'\n",
    "\n",
    "# load data to dfs\n",
    "interact_raw = pd.read_csv(interact_path)\n",
    "connect_raw = pd.read_csv(connect_path)\n",
    "learn_raw = pd.read_csv(learn_path)\n",
    "help_raw = pd.read_csv(help_path)\n",
    "services_raw = pd.read_csv(services_path)"
   ]
  },
  {
   "cell_type": "code",
   "execution_count": 72,
   "id": "f0823d49-7883-4a1c-b86e-1a3ea4d5c5c0",
   "metadata": {},
   "outputs": [],
   "source": [
    "#interact_raw.head(10)\n",
    "#connect_raw.head(10)\n",
    "#learn_raw.head(10)\n",
    "#help_raw.head(10)\n",
    "#services_raw.head(10)"
   ]
  },
  {
   "cell_type": "code",
   "execution_count": 83,
   "id": "a128ea9f-c331-4847-9d49-dc76c948eb4b",
   "metadata": {},
   "outputs": [],
   "source": [
    "def clean_df(original_df):\n",
    "    '''Function to clean the original dfs and calculate ctr'''\n",
    "    # define list of category terms\n",
    "    term_list = ['INTERACT', 'CONNECT', 'LEARN', 'HELP', 'SERVICES']\n",
    "\n",
    "    # calculate total amount of website visits\n",
    "    visits = original_df['No. clicks'].sum()\n",
    "\n",
    "    # extract needed data from original dfs and add to new dfs\n",
    "    df = original_df.loc[original_df.Name.isin(term_list), ['Name', 'No. clicks']]\n",
    "\n",
    "    # rename cols\n",
    "    df.rename(columns={'Name': 'name', 'No. clicks': 'clicks'}, inplace=True)\n",
    "\n",
    "    # add cols for visits and ctr\n",
    "    df['visits'] = visits\n",
    "    df['ctr'] = df.clicks / df.visits\n",
    "    \n",
    "    return df"
   ]
  },
  {
   "cell_type": "markdown",
   "id": "1b0cdada-b5ac-40a2-a0db-3e7a1f3ea432",
   "metadata": {},
   "source": [
    "# Combine tables to one"
   ]
  },
  {
   "cell_type": "code",
   "execution_count": 76,
   "id": "4fb87fb6-535d-41e3-b22c-24d54b3ec6b9",
   "metadata": {},
   "outputs": [],
   "source": [
    "# create cleaned dfs\n",
    "interact = clean_df(interact_raw)\n",
    "connect = clean_df(connect_raw)\n",
    "learn = clean_df(learn_raw)\n",
    "help = clean_df(help_raw)\n",
    "services = clean_df(services_raw)\n",
    "\n",
    "df_list = [interact, connect, learn, help, services]"
   ]
  },
  {
   "cell_type": "code",
   "execution_count": 82,
   "id": "7f6b379a-3bf6-4157-a886-841d8b07a306",
   "metadata": {},
   "outputs": [
    {
     "data": {
      "text/html": [
       "<div>\n",
       "<style scoped>\n",
       "    .dataframe tbody tr th:only-of-type {\n",
       "        vertical-align: middle;\n",
       "    }\n",
       "\n",
       "    .dataframe tbody tr th {\n",
       "        vertical-align: top;\n",
       "    }\n",
       "\n",
       "    .dataframe thead th {\n",
       "        text-align: right;\n",
       "    }\n",
       "</style>\n",
       "<table border=\"1\" class=\"dataframe\">\n",
       "  <thead>\n",
       "    <tr style=\"text-align: right;\">\n",
       "      <th></th>\n",
       "      <th>name</th>\n",
       "      <th>clicks</th>\n",
       "      <th>visits</th>\n",
       "      <th>ctr</th>\n",
       "    </tr>\n",
       "  </thead>\n",
       "  <tbody>\n",
       "    <tr>\n",
       "      <th>0</th>\n",
       "      <td>connect</td>\n",
       "      <td>53</td>\n",
       "      <td>1587</td>\n",
       "      <td>0.033396</td>\n",
       "    </tr>\n",
       "    <tr>\n",
       "      <th>1</th>\n",
       "      <td>services</td>\n",
       "      <td>45</td>\n",
       "      <td>1348</td>\n",
       "      <td>0.033383</td>\n",
       "    </tr>\n",
       "    <tr>\n",
       "      <th>2</th>\n",
       "      <td>help</td>\n",
       "      <td>38</td>\n",
       "      <td>1717</td>\n",
       "      <td>0.022132</td>\n",
       "    </tr>\n",
       "    <tr>\n",
       "      <th>3</th>\n",
       "      <td>learn</td>\n",
       "      <td>21</td>\n",
       "      <td>1652</td>\n",
       "      <td>0.012712</td>\n",
       "    </tr>\n",
       "    <tr>\n",
       "      <th>4</th>\n",
       "      <td>interact</td>\n",
       "      <td>42</td>\n",
       "      <td>3714</td>\n",
       "      <td>0.011309</td>\n",
       "    </tr>\n",
       "  </tbody>\n",
       "</table>\n",
       "</div>"
      ],
      "text/plain": [
       "       name  clicks  visits       ctr\n",
       "0   connect      53    1587  0.033396\n",
       "1  services      45    1348  0.033383\n",
       "2      help      38    1717  0.022132\n",
       "3     learn      21    1652  0.012712\n",
       "4  interact      42    3714  0.011309"
      ]
     },
     "execution_count": 82,
     "metadata": {},
     "output_type": "execute_result"
    }
   ],
   "source": [
    "# combine all data to one df\n",
    "df = pd.concat(df_list).sort_values('ctr', ascending=False).reset_index(drop=True)\n",
    "df.name = df.name.str.lower()\n",
    "df"
   ]
  },
  {
   "cell_type": "code",
   "execution_count": null,
   "id": "320812bf-5c2b-4d1f-bb57-6375ab1319e1",
   "metadata": {},
   "outputs": [],
   "source": []
  }
 ],
 "metadata": {
  "kernelspec": {
   "display_name": "Python 3 (ipykernel)",
   "language": "python",
   "name": "python3"
  },
  "language_info": {
   "codemirror_mode": {
    "name": "ipython",
    "version": 3
   },
   "file_extension": ".py",
   "mimetype": "text/x-python",
   "name": "python",
   "nbconvert_exporter": "python",
   "pygments_lexer": "ipython3",
   "version": "3.11.5"
  }
 },
 "nbformat": 4,
 "nbformat_minor": 5
}
