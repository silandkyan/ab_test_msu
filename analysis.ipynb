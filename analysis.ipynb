{
 "cells": [
  {
   "cell_type": "markdown",
   "id": "e985ee59-4141-44a1-a769-da6b5113e9ce",
   "metadata": {},
   "source": [
    "# Load packages and data"
   ]
  },
  {
   "cell_type": "code",
   "execution_count": 1,
   "id": "c1c00ffe-f72e-4e5a-b68a-603abb74a555",
   "metadata": {},
   "outputs": [],
   "source": [
    "import pandas as pd"
   ]
  },
  {
   "cell_type": "code",
   "execution_count": 2,
   "id": "0955eccc-5891-4289-b532-797f55a7a8cf",
   "metadata": {},
   "outputs": [],
   "source": [
    "# define relative paths to data files\n",
    "interact_path = './CrazyEgg_data/Homepage Version 1 - Interact, 5-29-2013/Element list Homepage Version 1 - Interact, 5-29-2013.csv'\n",
    "connect_path = './CrazyEgg_data/Homepage Version 2 - Connect, 5-29-2013/Element list Homepage Version 2 - Connect, 5-29-2013.csv'\n",
    "learn_path = './CrazyEgg_data/Homepage Version 3 - Learn, 5-29-2013/Element list Homepage Version 3 - Learn, 5-29-2013.csv'\n",
    "help_path = './CrazyEgg_data/Homepage Version 4 - Help, 5-29-2013/Element list Homepage Version 4 - Help, 5-29-2013.csv'\n",
    "services_path = './CrazyEgg_data/Homepage Version 5 - Services, 5-29-2013/Element list Homepage Version 5 - Services, 5-29-2013.csv'\n",
    "\n",
    "# load data to dfs\n",
    "interact_raw = pd.read_csv(interact_path)\n",
    "connect_raw = pd.read_csv(connect_path)\n",
    "learn_raw = pd.read_csv(learn_path)\n",
    "help_raw = pd.read_csv(help_path)\n",
    "services_raw = pd.read_csv(services_path)"
   ]
  },
  {
   "cell_type": "code",
   "execution_count": 3,
   "id": "c966ab9e-572b-430b-98b8-d5019bf3f6df",
   "metadata": {},
   "outputs": [
    {
     "data": {
      "text/html": [
       "<div>\n",
       "<style scoped>\n",
       "    .dataframe tbody tr th:only-of-type {\n",
       "        vertical-align: middle;\n",
       "    }\n",
       "\n",
       "    .dataframe tbody tr th {\n",
       "        vertical-align: top;\n",
       "    }\n",
       "\n",
       "    .dataframe thead th {\n",
       "        text-align: right;\n",
       "    }\n",
       "</style>\n",
       "<table border=\"1\" class=\"dataframe\">\n",
       "  <thead>\n",
       "    <tr style=\"text-align: right;\">\n",
       "      <th></th>\n",
       "      <th>Element ID</th>\n",
       "      <th>Tag name</th>\n",
       "      <th>Name</th>\n",
       "      <th>No. clicks</th>\n",
       "      <th>Visible?</th>\n",
       "      <th>Snapshot information</th>\n",
       "    </tr>\n",
       "  </thead>\n",
       "  <tbody>\n",
       "    <tr>\n",
       "      <th>0</th>\n",
       "      <td>69</td>\n",
       "      <td>a</td>\n",
       "      <td>FIND</td>\n",
       "      <td>397</td>\n",
       "      <td>True</td>\n",
       "      <td>Homepage Version 5 - Services   •   http://www...</td>\n",
       "    </tr>\n",
       "    <tr>\n",
       "      <th>1</th>\n",
       "      <td>61</td>\n",
       "      <td>input</td>\n",
       "      <td>s.q</td>\n",
       "      <td>323</td>\n",
       "      <td>True</td>\n",
       "      <td>created 5-29-2013   •   20 days 4 hours 59 min...</td>\n",
       "    </tr>\n",
       "    <tr>\n",
       "      <th>2</th>\n",
       "      <td>67</td>\n",
       "      <td>a</td>\n",
       "      <td>lib.montana.edu/find/</td>\n",
       "      <td>106</td>\n",
       "      <td>True</td>\n",
       "      <td>NaN</td>\n",
       "    </tr>\n",
       "    <tr>\n",
       "      <th>3</th>\n",
       "      <td>62</td>\n",
       "      <td>button</td>\n",
       "      <td>Search</td>\n",
       "      <td>85</td>\n",
       "      <td>True</td>\n",
       "      <td>NaN</td>\n",
       "    </tr>\n",
       "    <tr>\n",
       "      <th>4</th>\n",
       "      <td>98</td>\n",
       "      <td>a</td>\n",
       "      <td>Hours</td>\n",
       "      <td>81</td>\n",
       "      <td>True</td>\n",
       "      <td>NaN</td>\n",
       "    </tr>\n",
       "  </tbody>\n",
       "</table>\n",
       "</div>"
      ],
      "text/plain": [
       "   Element ID Tag name                   Name  No. clicks  Visible?  \\\n",
       "0          69        a                   FIND         397      True   \n",
       "1          61    input                    s.q         323      True   \n",
       "2          67        a  lib.montana.edu/find/         106      True   \n",
       "3          62   button                 Search          85      True   \n",
       "4          98        a                  Hours          81      True   \n",
       "\n",
       "                                Snapshot information  \n",
       "0  Homepage Version 5 - Services   •   http://www...  \n",
       "1  created 5-29-2013   •   20 days 4 hours 59 min...  \n",
       "2                                                NaN  \n",
       "3                                                NaN  \n",
       "4                                                NaN  "
      ]
     },
     "execution_count": 3,
     "metadata": {},
     "output_type": "execute_result"
    }
   ],
   "source": [
    "services_raw.head()"
   ]
  },
  {
   "cell_type": "markdown",
   "id": "1b0cdada-b5ac-40a2-a0db-3e7a1f3ea432",
   "metadata": {},
   "source": [
    "# Combine tables to one"
   ]
  },
  {
   "cell_type": "code",
   "execution_count": 4,
   "id": "a128ea9f-c331-4847-9d49-dc76c948eb4b",
   "metadata": {},
   "outputs": [],
   "source": [
    "def clean_df(original_df):\n",
    "    '''Function to clean the original dfs and calculate ctr'''\n",
    "    # define list of category terms\n",
    "    term_list = ['INTERACT', 'CONNECT', 'LEARN', 'HELP', 'SERVICES']\n",
    "\n",
    "    # parse total amount of website visits\n",
    "    visits = int(original_df.iloc[1, -1].split(' ')[-4])\n",
    "\n",
    "    # extract needed data from original dfs and add to new dfs\n",
    "    df = original_df.loc[original_df.Name.isin(term_list), ['Name', 'No. clicks']]\n",
    "\n",
    "    # rename cols\n",
    "    df.rename(columns={'Name': 'name', 'No. clicks': 'clicks'}, inplace=True)\n",
    "\n",
    "    # add cols for visits and ctr\n",
    "    df['visits'] = visits\n",
    "    df['ctr'] = df.clicks / df.visits\n",
    "    \n",
    "    return df"
   ]
  },
  {
   "cell_type": "code",
   "execution_count": 5,
   "id": "4fb87fb6-535d-41e3-b22c-24d54b3ec6b9",
   "metadata": {},
   "outputs": [],
   "source": [
    "# create cleaned dfs\n",
    "interact = clean_df(interact_raw)\n",
    "connect = clean_df(connect_raw)\n",
    "learn = clean_df(learn_raw)\n",
    "help = clean_df(help_raw)\n",
    "services = clean_df(services_raw)\n",
    "\n",
    "df_list = [interact, connect, learn, help, services]"
   ]
  },
  {
   "cell_type": "code",
   "execution_count": 6,
   "id": "7f6b379a-3bf6-4157-a886-841d8b07a306",
   "metadata": {},
   "outputs": [
    {
     "data": {
      "text/html": [
       "<div>\n",
       "<style scoped>\n",
       "    .dataframe tbody tr th:only-of-type {\n",
       "        vertical-align: middle;\n",
       "    }\n",
       "\n",
       "    .dataframe tbody tr th {\n",
       "        vertical-align: top;\n",
       "    }\n",
       "\n",
       "    .dataframe thead th {\n",
       "        text-align: right;\n",
       "    }\n",
       "</style>\n",
       "<table border=\"1\" class=\"dataframe\">\n",
       "  <thead>\n",
       "    <tr style=\"text-align: right;\">\n",
       "      <th></th>\n",
       "      <th>name</th>\n",
       "      <th>clicks</th>\n",
       "      <th>visits</th>\n",
       "      <th>ctr</th>\n",
       "      <th>no_clicks</th>\n",
       "    </tr>\n",
       "  </thead>\n",
       "  <tbody>\n",
       "    <tr>\n",
       "      <th>0</th>\n",
       "      <td>services</td>\n",
       "      <td>45</td>\n",
       "      <td>2064</td>\n",
       "      <td>0.021802</td>\n",
       "      <td>2019</td>\n",
       "    </tr>\n",
       "    <tr>\n",
       "      <th>1</th>\n",
       "      <td>connect</td>\n",
       "      <td>53</td>\n",
       "      <td>2742</td>\n",
       "      <td>0.019329</td>\n",
       "      <td>2689</td>\n",
       "    </tr>\n",
       "    <tr>\n",
       "      <th>2</th>\n",
       "      <td>help</td>\n",
       "      <td>38</td>\n",
       "      <td>3180</td>\n",
       "      <td>0.011950</td>\n",
       "      <td>3142</td>\n",
       "    </tr>\n",
       "    <tr>\n",
       "      <th>3</th>\n",
       "      <td>learn</td>\n",
       "      <td>21</td>\n",
       "      <td>2747</td>\n",
       "      <td>0.007645</td>\n",
       "      <td>2726</td>\n",
       "    </tr>\n",
       "    <tr>\n",
       "      <th>4</th>\n",
       "      <td>interact</td>\n",
       "      <td>42</td>\n",
       "      <td>10283</td>\n",
       "      <td>0.004084</td>\n",
       "      <td>10241</td>\n",
       "    </tr>\n",
       "  </tbody>\n",
       "</table>\n",
       "</div>"
      ],
      "text/plain": [
       "       name  clicks  visits       ctr  no_clicks\n",
       "0  services      45    2064  0.021802       2019\n",
       "1   connect      53    2742  0.019329       2689\n",
       "2      help      38    3180  0.011950       3142\n",
       "3     learn      21    2747  0.007645       2726\n",
       "4  interact      42   10283  0.004084      10241"
      ]
     },
     "execution_count": 6,
     "metadata": {},
     "output_type": "execute_result"
    }
   ],
   "source": [
    "# combine all data to one df\n",
    "df = pd.concat(df_list).sort_values('ctr', ascending=False).reset_index(drop=True)\n",
    "df.name = df.name.str.lower()\n",
    "df['no_clicks'] = df.visits - df.clicks\n",
    "df"
   ]
  },
  {
   "cell_type": "markdown",
   "id": "f39221b4-623d-42d6-b98e-b5fbd0e665e5",
   "metadata": {},
   "source": [
    "“Interact” and “Learn” are the worst performers, while “Services” and “Connect” perform much better."
   ]
  },
  {
   "cell_type": "markdown",
   "id": "01704534-3f14-4b97-8015-220899f92e34",
   "metadata": {},
   "source": [
    "# Chi-square test"
   ]
  },
  {
   "cell_type": "markdown",
   "id": "edfbf501-0c13-416d-a754-88ff088d2ecb",
   "metadata": {},
   "source": [
    "* Null Hypothesis: The 5 versions of the button are equally likely to receive clicks, and the observed differences are due to chance\n",
    "* Alternative Hypothesis: The observed differences are not due to chance: there is at least one version that got so many more/much less clicks than the others that this can hardly be explained just by chance (i.e. they have a better/worse CTR, a better/worse performance)."
   ]
  },
  {
   "cell_type": "code",
   "execution_count": 7,
   "id": "2d240a58-92dd-4a6f-9dc9-368117625536",
   "metadata": {},
   "outputs": [
    {
     "data": {
      "text/html": [
       "<div>\n",
       "<style scoped>\n",
       "    .dataframe tbody tr th:only-of-type {\n",
       "        vertical-align: middle;\n",
       "    }\n",
       "\n",
       "    .dataframe tbody tr th {\n",
       "        vertical-align: top;\n",
       "    }\n",
       "\n",
       "    .dataframe thead th {\n",
       "        text-align: right;\n",
       "    }\n",
       "</style>\n",
       "<table border=\"1\" class=\"dataframe\">\n",
       "  <thead>\n",
       "    <tr style=\"text-align: right;\">\n",
       "      <th>name</th>\n",
       "      <th>services</th>\n",
       "      <th>connect</th>\n",
       "      <th>help</th>\n",
       "      <th>learn</th>\n",
       "      <th>interact</th>\n",
       "    </tr>\n",
       "  </thead>\n",
       "  <tbody>\n",
       "    <tr>\n",
       "      <th>clicks</th>\n",
       "      <td>45</td>\n",
       "      <td>53</td>\n",
       "      <td>38</td>\n",
       "      <td>21</td>\n",
       "      <td>42</td>\n",
       "    </tr>\n",
       "    <tr>\n",
       "      <th>no_clicks</th>\n",
       "      <td>2019</td>\n",
       "      <td>2689</td>\n",
       "      <td>3142</td>\n",
       "      <td>2726</td>\n",
       "      <td>10241</td>\n",
       "    </tr>\n",
       "  </tbody>\n",
       "</table>\n",
       "</div>"
      ],
      "text/plain": [
       "name      services connect  help learn interact\n",
       "clicks          45      53    38    21       42\n",
       "no_clicks     2019    2689  3142  2726    10241"
      ]
     },
     "execution_count": 7,
     "metadata": {},
     "output_type": "execute_result"
    }
   ],
   "source": [
    "# set significance level = 90%\n",
    "alpha = 0.1\n",
    "\n",
    "# create contingency table\n",
    "\n",
    "conti = df[['name', 'clicks', 'no_clicks']].transpose()\n",
    "conti.columns = conti.iloc[0] # set new column header\n",
    "conti = conti.iloc[1:] # drop row with labels now in header\n",
    "conti"
   ]
  },
  {
   "cell_type": "code",
   "execution_count": 8,
   "id": "45915a71-2b9f-4365-9dad-ac952f76198b",
   "metadata": {},
   "outputs": [
    {
     "name": "stdout",
     "output_type": "stream",
     "text": [
      "96.7432353798328 4.852334301093838e-20 4\n",
      "[[   19.5439665     25.96393224    30.11134374    26.01127712\n",
      "     97.3694804 ]\n",
      " [ 2044.4560335   2716.03606776  3149.88865626  2720.98872288\n",
      "  10185.6305196 ]]\n"
     ]
    }
   ],
   "source": [
    "from scipy import stats\n",
    "\n",
    "chisq, pvalue, dof, expected = stats.chi2_contingency(conti)\n",
    "print(chisq, pvalue, dof)\n",
    "print(expected)"
   ]
  },
  {
   "cell_type": "code",
   "execution_count": 9,
   "id": "ec0aee93-c166-401a-b80a-f1f16775a2cf",
   "metadata": {},
   "outputs": [
    {
     "name": "stdout",
     "output_type": "stream",
     "text": [
      "Reject Null.\n"
     ]
    }
   ],
   "source": [
    "if pvalue < alpha:\n",
    "    print('Reject Null.')\n",
    "else:\n",
    "    print('Do not reject Null.')"
   ]
  },
  {
   "cell_type": "markdown",
   "id": "045d0334-81d4-4a70-b88a-23fba28b119b",
   "metadata": {},
   "source": [
    "That means: At least one of the website versions performes significantly worse or better than the rest!"
   ]
  },
  {
   "cell_type": "markdown",
   "id": "ca1ac364-2f23-4cb5-83b4-aebd12544c98",
   "metadata": {},
   "source": [
    "# Post-hoc test to identify ideal label"
   ]
  },
  {
   "cell_type": "code",
   "execution_count": 10,
   "id": "ceb5e354-e32f-413e-b972-d6e4f6612f88",
   "metadata": {},
   "outputs": [
    {
     "data": {
      "text/html": [
       "<div>\n",
       "<style scoped>\n",
       "    .dataframe tbody tr th:only-of-type {\n",
       "        vertical-align: middle;\n",
       "    }\n",
       "\n",
       "    .dataframe tbody tr th {\n",
       "        vertical-align: top;\n",
       "    }\n",
       "\n",
       "    .dataframe thead th {\n",
       "        text-align: right;\n",
       "    }\n",
       "</style>\n",
       "<table border=\"1\" class=\"dataframe\">\n",
       "  <thead>\n",
       "    <tr style=\"text-align: right;\">\n",
       "      <th>name</th>\n",
       "      <th>services</th>\n",
       "      <th>connect</th>\n",
       "    </tr>\n",
       "  </thead>\n",
       "  <tbody>\n",
       "    <tr>\n",
       "      <th>clicks</th>\n",
       "      <td>45</td>\n",
       "      <td>53</td>\n",
       "    </tr>\n",
       "    <tr>\n",
       "      <th>no_clicks</th>\n",
       "      <td>2019</td>\n",
       "      <td>2689</td>\n",
       "    </tr>\n",
       "  </tbody>\n",
       "</table>\n",
       "</div>"
      ],
      "text/plain": [
       "name      services connect\n",
       "clicks          45      53\n",
       "no_clicks     2019    2689"
      ]
     },
     "execution_count": 10,
     "metadata": {},
     "output_type": "execute_result"
    }
   ],
   "source": [
    "from itertools import combinations\n",
    "\n",
    "# create all possible paired combinations\n",
    "combis = list(combinations(conti.columns, 2))\n",
    "\n",
    "# prepare list for storing the combination dfs\n",
    "df_combis = []\n",
    "\n",
    "# fill list with combinations\n",
    "for combi in combis:\n",
    "    df_combis.append(conti[[combi[0], combi[1]]])\n",
    "\n",
    "df_combis[0]"
   ]
  },
  {
   "cell_type": "markdown",
   "id": "786338b2-fee5-4ba5-8a3c-98a95a103e7a",
   "metadata": {},
   "source": [
    "Define new significance level based on the Bonferroni Adjustment, using previous alpha and number of paired combinations."
   ]
  },
  {
   "cell_type": "code",
   "execution_count": 11,
   "id": "04d56aef-5693-4c85-8195-0ee49e21b182",
   "metadata": {},
   "outputs": [
    {
     "data": {
      "text/plain": [
       "0.01"
      ]
     },
     "execution_count": 11,
     "metadata": {},
     "output_type": "execute_result"
    }
   ],
   "source": [
    "# define new significance level\n",
    "alpha2 = alpha / len(df_combis)\n",
    "alpha2"
   ]
  },
  {
   "cell_type": "code",
   "execution_count": 12,
   "id": "08705e5f-f13c-4a2a-bbd3-4df888b7e441",
   "metadata": {},
   "outputs": [
    {
     "data": {
      "text/plain": [
       "[[0.24744894078894586, 0.6188771123975272, 'services', 'connect'],\n",
       " [7.180281909052921, 0.007370912499282061, 'services', 'help']]"
      ]
     },
     "execution_count": 12,
     "metadata": {},
     "output_type": "execute_result"
    }
   ],
   "source": [
    "results = []\n",
    "\n",
    "# run post-hoc chi-square test for all pairs and store results\n",
    "for df in df_combis:\n",
    "    chisq, pvalue, dof, expected = stats.chi2_contingency(df)\n",
    "    r = [chisq, pvalue, list(df.columns)[0], list(df.columns)[1]]\n",
    "    results.append(r)\n",
    "\n",
    "results[0:2]\n",
    "#list(df.columns)"
   ]
  },
  {
   "cell_type": "code",
   "execution_count": 13,
   "id": "54634ca8-6049-4a5d-98b7-83dfc0e56cae",
   "metadata": {},
   "outputs": [
    {
     "data": {
      "text/html": [
       "<div>\n",
       "<style scoped>\n",
       "    .dataframe tbody tr th:only-of-type {\n",
       "        vertical-align: middle;\n",
       "    }\n",
       "\n",
       "    .dataframe tbody tr th {\n",
       "        vertical-align: top;\n",
       "    }\n",
       "\n",
       "    .dataframe thead th {\n",
       "        text-align: right;\n",
       "    }\n",
       "</style>\n",
       "<table border=\"1\" class=\"dataframe\">\n",
       "  <thead>\n",
       "    <tr style=\"text-align: right;\">\n",
       "      <th></th>\n",
       "      <th>chisq</th>\n",
       "      <th>pvalue</th>\n",
       "      <th>option1</th>\n",
       "      <th>option2</th>\n",
       "      <th>distinguishable?</th>\n",
       "    </tr>\n",
       "  </thead>\n",
       "  <tbody>\n",
       "    <tr>\n",
       "      <th>0</th>\n",
       "      <td>0.247449</td>\n",
       "      <td>0.618877</td>\n",
       "      <td>services</td>\n",
       "      <td>connect</td>\n",
       "      <td>False</td>\n",
       "    </tr>\n",
       "    <tr>\n",
       "      <th>4</th>\n",
       "      <td>4.822649</td>\n",
       "      <td>0.028088</td>\n",
       "      <td>connect</td>\n",
       "      <td>help</td>\n",
       "      <td>False</td>\n",
       "    </tr>\n",
       "    <tr>\n",
       "      <th>7</th>\n",
       "      <td>2.351936</td>\n",
       "      <td>0.125128</td>\n",
       "      <td>help</td>\n",
       "      <td>learn</td>\n",
       "      <td>False</td>\n",
       "    </tr>\n",
       "    <tr>\n",
       "      <th>9</th>\n",
       "      <td>4.995056</td>\n",
       "      <td>0.025420</td>\n",
       "      <td>learn</td>\n",
       "      <td>interact</td>\n",
       "      <td>False</td>\n",
       "    </tr>\n",
       "  </tbody>\n",
       "</table>\n",
       "</div>"
      ],
      "text/plain": [
       "      chisq    pvalue   option1   option2  distinguishable?\n",
       "0  0.247449  0.618877  services   connect             False\n",
       "4  4.822649  0.028088   connect      help             False\n",
       "7  2.351936  0.125128      help     learn             False\n",
       "9  4.995056  0.025420     learn  interact             False"
      ]
     },
     "execution_count": 13,
     "metadata": {},
     "output_type": "execute_result"
    }
   ],
   "source": [
    "# create new df from post-hoc test results\n",
    "results_df = pd.DataFrame(results)\n",
    "results_df.columns = ['chisq', 'pvalue', 'option1', 'option2']\n",
    "results_df['distinguishable?'] = results_df.pvalue < alpha2\n",
    "#results_df['option1'] = results_df.combination[0]\n",
    "results_df\n",
    "\n",
    "# filter df for all p-values < significance level\n",
    "#results_df.loc[results_df['distinguishable?'] == True]\n",
    "\n",
    "# filter df for all p-values > significance level\n",
    "results_df.loc[results_df['distinguishable?'] == False]"
   ]
  },
  {
   "cell_type": "markdown",
   "id": "6483dee3-f9ff-48d1-96b8-9785464be9dd",
   "metadata": {},
   "source": [
    "Above table (results_df) shows all combinations where both options are different, and where not. Especially Services and Connect, the best-performing options based on CTR, are indistinguishable. So no clearly preferable option identified so far.\n",
    "\n",
    "However, when also considering Drop-off and Homepage-return rates, \"Services\" performs best of all options. In both metrics, \"Services\" beats all other options.\n",
    "\n",
    "**The winner is Services!**"
   ]
  },
  {
   "cell_type": "code",
   "execution_count": null,
   "id": "8511f5e3-b761-4624-94dc-b1cd469a81ad",
   "metadata": {},
   "outputs": [],
   "source": []
  }
 ],
 "metadata": {
  "kernelspec": {
   "display_name": "Python 3 (ipykernel)",
   "language": "python",
   "name": "python3"
  },
  "language_info": {
   "codemirror_mode": {
    "name": "ipython",
    "version": 3
   },
   "file_extension": ".py",
   "mimetype": "text/x-python",
   "name": "python",
   "nbconvert_exporter": "python",
   "pygments_lexer": "ipython3",
   "version": "3.11.5"
  }
 },
 "nbformat": 4,
 "nbformat_minor": 5
}
