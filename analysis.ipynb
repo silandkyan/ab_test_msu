{
 "cells": [
  {
   "cell_type": "markdown",
   "id": "e985ee59-4141-44a1-a769-da6b5113e9ce",
   "metadata": {},
   "source": [
    "# Load packages and data"
   ]
  },
  {
   "cell_type": "code",
   "execution_count": 1,
   "id": "c1c00ffe-f72e-4e5a-b68a-603abb74a555",
   "metadata": {},
   "outputs": [],
   "source": [
    "import pandas as pd"
   ]
  },
  {
   "cell_type": "code",
   "execution_count": 85,
   "id": "0955eccc-5891-4289-b532-797f55a7a8cf",
   "metadata": {},
   "outputs": [],
   "source": [
    "# define relative paths to data files\n",
    "interact_path = './CrazyEgg_data/Homepage Version 1 - Interact, 5-29-2013/Element list Homepage Version 1 - Interact, 5-29-2013.csv'\n",
    "connect_path = './CrazyEgg_data/Homepage Version 2 - Connect, 5-29-2013/Element list Homepage Version 2 - Connect, 5-29-2013.csv'\n",
    "learn_path = './CrazyEgg_data/Homepage Version 3 - Learn, 5-29-2013/Element list Homepage Version 3 - Learn, 5-29-2013.csv'\n",
    "help_path = './CrazyEgg_data/Homepage Version 4 - Help, 5-29-2013/Element list Homepage Version 4 - Help, 5-29-2013.csv'\n",
    "services_path = './CrazyEgg_data/Homepage Version 5 - Services, 5-29-2013/Element list Homepage Version 5 - Services, 5-29-2013.csv'\n",
    "\n",
    "# load data to dfs\n",
    "interact_raw = pd.read_csv(interact_path)\n",
    "connect_raw = pd.read_csv(connect_path)\n",
    "learn_raw = pd.read_csv(learn_path)\n",
    "help_raw = pd.read_csv(help_path)\n",
    "services_raw = pd.read_csv(services_path)"
   ]
  },
  {
   "cell_type": "code",
   "execution_count": 88,
   "id": "c966ab9e-572b-430b-98b8-d5019bf3f6df",
   "metadata": {},
   "outputs": [
    {
     "data": {
      "text/html": [
       "<div>\n",
       "<style scoped>\n",
       "    .dataframe tbody tr th:only-of-type {\n",
       "        vertical-align: middle;\n",
       "    }\n",
       "\n",
       "    .dataframe tbody tr th {\n",
       "        vertical-align: top;\n",
       "    }\n",
       "\n",
       "    .dataframe thead th {\n",
       "        text-align: right;\n",
       "    }\n",
       "</style>\n",
       "<table border=\"1\" class=\"dataframe\">\n",
       "  <thead>\n",
       "    <tr style=\"text-align: right;\">\n",
       "      <th></th>\n",
       "      <th>Element ID</th>\n",
       "      <th>Tag name</th>\n",
       "      <th>Name</th>\n",
       "      <th>No. clicks</th>\n",
       "      <th>Visible?</th>\n",
       "      <th>Snapshot information</th>\n",
       "    </tr>\n",
       "  </thead>\n",
       "  <tbody>\n",
       "    <tr>\n",
       "      <th>0</th>\n",
       "      <td>69</td>\n",
       "      <td>a</td>\n",
       "      <td>FIND</td>\n",
       "      <td>397</td>\n",
       "      <td>True</td>\n",
       "      <td>Homepage Version 5 - Services   •   http://www...</td>\n",
       "    </tr>\n",
       "    <tr>\n",
       "      <th>1</th>\n",
       "      <td>61</td>\n",
       "      <td>input</td>\n",
       "      <td>s.q</td>\n",
       "      <td>323</td>\n",
       "      <td>True</td>\n",
       "      <td>created 5-29-2013   •   20 days 4 hours 59 min...</td>\n",
       "    </tr>\n",
       "    <tr>\n",
       "      <th>2</th>\n",
       "      <td>67</td>\n",
       "      <td>a</td>\n",
       "      <td>lib.montana.edu/find/</td>\n",
       "      <td>106</td>\n",
       "      <td>True</td>\n",
       "      <td>NaN</td>\n",
       "    </tr>\n",
       "    <tr>\n",
       "      <th>3</th>\n",
       "      <td>62</td>\n",
       "      <td>button</td>\n",
       "      <td>Search</td>\n",
       "      <td>85</td>\n",
       "      <td>True</td>\n",
       "      <td>NaN</td>\n",
       "    </tr>\n",
       "    <tr>\n",
       "      <th>4</th>\n",
       "      <td>98</td>\n",
       "      <td>a</td>\n",
       "      <td>Hours</td>\n",
       "      <td>81</td>\n",
       "      <td>True</td>\n",
       "      <td>NaN</td>\n",
       "    </tr>\n",
       "  </tbody>\n",
       "</table>\n",
       "</div>"
      ],
      "text/plain": [
       "   Element ID Tag name                   Name  No. clicks  Visible?  \\\n",
       "0          69        a                   FIND         397      True   \n",
       "1          61    input                    s.q         323      True   \n",
       "2          67        a  lib.montana.edu/find/         106      True   \n",
       "3          62   button                 Search          85      True   \n",
       "4          98        a                  Hours          81      True   \n",
       "\n",
       "                                Snapshot information  \n",
       "0  Homepage Version 5 - Services   •   http://www...  \n",
       "1  created 5-29-2013   •   20 days 4 hours 59 min...  \n",
       "2                                                NaN  \n",
       "3                                                NaN  \n",
       "4                                                NaN  "
      ]
     },
     "execution_count": 88,
     "metadata": {},
     "output_type": "execute_result"
    }
   ],
   "source": [
    "services_raw.head()"
   ]
  },
  {
   "cell_type": "code",
   "execution_count": 95,
   "id": "98061410-0fa7-42f8-8bfc-a6ae591ed315",
   "metadata": {},
   "outputs": [
    {
     "data": {
      "text/plain": [
       "2064"
      ]
     },
     "execution_count": 95,
     "metadata": {},
     "output_type": "execute_result"
    }
   ],
   "source": [
    "int(services_raw.iloc[1,-1].split(' ')[-4])"
   ]
  },
  {
   "cell_type": "code",
   "execution_count": 100,
   "id": "a128ea9f-c331-4847-9d49-dc76c948eb4b",
   "metadata": {},
   "outputs": [],
   "source": [
    "def clean_df(original_df):\n",
    "    '''Function to clean the original dfs and calculate ctr'''\n",
    "    # define list of category terms\n",
    "    term_list = ['INTERACT', 'CONNECT', 'LEARN', 'HELP', 'SERVICES']\n",
    "\n",
    "    # parse total amount of website visits\n",
    "    visits = int(original_df.iloc[1, -1].split(' ')[-4])\n",
    "\n",
    "    # extract needed data from original dfs and add to new dfs\n",
    "    df = original_df.loc[original_df.Name.isin(term_list), ['Name', 'No. clicks']]\n",
    "\n",
    "    # rename cols\n",
    "    df.rename(columns={'Name': 'name', 'No. clicks': 'clicks'}, inplace=True)\n",
    "\n",
    "    # add cols for visits and ctr\n",
    "    df['visits'] = visits\n",
    "    df['ctr'] = df.clicks / df.visits\n",
    "    \n",
    "    return df"
   ]
  },
  {
   "cell_type": "markdown",
   "id": "1b0cdada-b5ac-40a2-a0db-3e7a1f3ea432",
   "metadata": {},
   "source": [
    "# Combine tables to one"
   ]
  },
  {
   "cell_type": "code",
   "execution_count": 97,
   "id": "4fb87fb6-535d-41e3-b22c-24d54b3ec6b9",
   "metadata": {},
   "outputs": [],
   "source": [
    "# create cleaned dfs\n",
    "interact = clean_df(interact_raw)\n",
    "connect = clean_df(connect_raw)\n",
    "learn = clean_df(learn_raw)\n",
    "help = clean_df(help_raw)\n",
    "services = clean_df(services_raw)\n",
    "\n",
    "df_list = [interact, connect, learn, help, services]"
   ]
  },
  {
   "cell_type": "code",
   "execution_count": 103,
   "id": "7f6b379a-3bf6-4157-a886-841d8b07a306",
   "metadata": {},
   "outputs": [
    {
     "data": {
      "text/html": [
       "<div>\n",
       "<style scoped>\n",
       "    .dataframe tbody tr th:only-of-type {\n",
       "        vertical-align: middle;\n",
       "    }\n",
       "\n",
       "    .dataframe tbody tr th {\n",
       "        vertical-align: top;\n",
       "    }\n",
       "\n",
       "    .dataframe thead th {\n",
       "        text-align: right;\n",
       "    }\n",
       "</style>\n",
       "<table border=\"1\" class=\"dataframe\">\n",
       "  <thead>\n",
       "    <tr style=\"text-align: right;\">\n",
       "      <th></th>\n",
       "      <th>name</th>\n",
       "      <th>clicks</th>\n",
       "      <th>visits</th>\n",
       "      <th>ctr</th>\n",
       "      <th>no_clicks</th>\n",
       "    </tr>\n",
       "  </thead>\n",
       "  <tbody>\n",
       "    <tr>\n",
       "      <th>0</th>\n",
       "      <td>services</td>\n",
       "      <td>45</td>\n",
       "      <td>2064</td>\n",
       "      <td>0.021802</td>\n",
       "      <td>2019</td>\n",
       "    </tr>\n",
       "    <tr>\n",
       "      <th>1</th>\n",
       "      <td>connect</td>\n",
       "      <td>53</td>\n",
       "      <td>2742</td>\n",
       "      <td>0.019329</td>\n",
       "      <td>2689</td>\n",
       "    </tr>\n",
       "    <tr>\n",
       "      <th>2</th>\n",
       "      <td>help</td>\n",
       "      <td>38</td>\n",
       "      <td>3180</td>\n",
       "      <td>0.011950</td>\n",
       "      <td>3142</td>\n",
       "    </tr>\n",
       "    <tr>\n",
       "      <th>3</th>\n",
       "      <td>learn</td>\n",
       "      <td>21</td>\n",
       "      <td>2747</td>\n",
       "      <td>0.007645</td>\n",
       "      <td>2726</td>\n",
       "    </tr>\n",
       "    <tr>\n",
       "      <th>4</th>\n",
       "      <td>interact</td>\n",
       "      <td>42</td>\n",
       "      <td>10283</td>\n",
       "      <td>0.004084</td>\n",
       "      <td>10241</td>\n",
       "    </tr>\n",
       "  </tbody>\n",
       "</table>\n",
       "</div>"
      ],
      "text/plain": [
       "       name  clicks  visits       ctr  no_clicks\n",
       "0  services      45    2064  0.021802       2019\n",
       "1   connect      53    2742  0.019329       2689\n",
       "2      help      38    3180  0.011950       3142\n",
       "3     learn      21    2747  0.007645       2726\n",
       "4  interact      42   10283  0.004084      10241"
      ]
     },
     "execution_count": 103,
     "metadata": {},
     "output_type": "execute_result"
    }
   ],
   "source": [
    "# combine all data to one df\n",
    "df = pd.concat(df_list).sort_values('ctr', ascending=False).reset_index(drop=True)\n",
    "df.name = df.name.str.lower()\n",
    "df['no_clicks'] = df.visits - df.clicks\n",
    "df"
   ]
  },
  {
   "cell_type": "markdown",
   "id": "f39221b4-623d-42d6-b98e-b5fbd0e665e5",
   "metadata": {},
   "source": [
    "“Interact” and “Learn” are the worst performers, while “Services” and “Connect” perform much better."
   ]
  },
  {
   "cell_type": "markdown",
   "id": "01704534-3f14-4b97-8015-220899f92e34",
   "metadata": {},
   "source": [
    "# Chi-square test"
   ]
  },
  {
   "cell_type": "markdown",
   "id": "edfbf501-0c13-416d-a754-88ff088d2ecb",
   "metadata": {},
   "source": [
    "* Null Hypothesis: The 5 versions of the button are equally likely to receive clicks, and the observed differences are due to chance\n",
    "* Alternative Hypothesis: The observed differences are not due to chance: there is at least one version that got so many more/much less clicks than the others that this can hardly be explained just by chance (i.e. they have a better/worse CTR, a better/worse performance)."
   ]
  },
  {
   "cell_type": "code",
   "execution_count": 114,
   "id": "2d240a58-92dd-4a6f-9dc9-368117625536",
   "metadata": {},
   "outputs": [
    {
     "data": {
      "text/html": [
       "<div>\n",
       "<style scoped>\n",
       "    .dataframe tbody tr th:only-of-type {\n",
       "        vertical-align: middle;\n",
       "    }\n",
       "\n",
       "    .dataframe tbody tr th {\n",
       "        vertical-align: top;\n",
       "    }\n",
       "\n",
       "    .dataframe thead th {\n",
       "        text-align: right;\n",
       "    }\n",
       "</style>\n",
       "<table border=\"1\" class=\"dataframe\">\n",
       "  <thead>\n",
       "    <tr style=\"text-align: right;\">\n",
       "      <th>name</th>\n",
       "      <th>services</th>\n",
       "      <th>connect</th>\n",
       "      <th>help</th>\n",
       "      <th>learn</th>\n",
       "      <th>interact</th>\n",
       "    </tr>\n",
       "  </thead>\n",
       "  <tbody>\n",
       "    <tr>\n",
       "      <th>clicks</th>\n",
       "      <td>45</td>\n",
       "      <td>53</td>\n",
       "      <td>38</td>\n",
       "      <td>21</td>\n",
       "      <td>42</td>\n",
       "    </tr>\n",
       "    <tr>\n",
       "      <th>no_clicks</th>\n",
       "      <td>2019</td>\n",
       "      <td>2689</td>\n",
       "      <td>3142</td>\n",
       "      <td>2726</td>\n",
       "      <td>10241</td>\n",
       "    </tr>\n",
       "  </tbody>\n",
       "</table>\n",
       "</div>"
      ],
      "text/plain": [
       "name      services connect  help learn interact\n",
       "clicks          45      53    38    21       42\n",
       "no_clicks     2019    2689  3142  2726    10241"
      ]
     },
     "execution_count": 114,
     "metadata": {},
     "output_type": "execute_result"
    }
   ],
   "source": [
    "# set significance level = 90%\n",
    "alpha = 0.1\n",
    "\n",
    "# create contingency table\n",
    "\n",
    "conti = df[['name', 'clicks', 'no_clicks']].transpose()\n",
    "conti.columns = conti.iloc[0] # set new column header\n",
    "conti = conti.iloc[1:] # drop row with labels now in header\n",
    "conti"
   ]
  },
  {
   "cell_type": "code",
   "execution_count": 115,
   "id": "45915a71-2b9f-4365-9dad-ac952f76198b",
   "metadata": {},
   "outputs": [
    {
     "name": "stdout",
     "output_type": "stream",
     "text": [
      "96.7432353798328 4.852334301093838e-20 4\n",
      "[[   19.5439665     25.96393224    30.11134374    26.01127712\n",
      "     97.3694804 ]\n",
      " [ 2044.4560335   2716.03606776  3149.88865626  2720.98872288\n",
      "  10185.6305196 ]]\n"
     ]
    }
   ],
   "source": [
    "from scipy import stats\n",
    "\n",
    "chisq, pvalue, dof, expected = stats.chi2_contingency(conti)\n",
    "print(chisq, pvalue, dof)\n",
    "print(expected)"
   ]
  },
  {
   "cell_type": "code",
   "execution_count": 116,
   "id": "ec0aee93-c166-401a-b80a-f1f16775a2cf",
   "metadata": {},
   "outputs": [
    {
     "name": "stdout",
     "output_type": "stream",
     "text": [
      "Reject Null.\n"
     ]
    }
   ],
   "source": [
    "if pvalue < alpha:\n",
    "    print('Reject Null.')\n",
    "else:\n",
    "    print('Do not reject Null.')"
   ]
  },
  {
   "cell_type": "code",
   "execution_count": null,
   "id": "7bcb0469-d21d-4722-823c-f4d29fd4a980",
   "metadata": {},
   "outputs": [],
   "source": []
  }
 ],
 "metadata": {
  "kernelspec": {
   "display_name": "Python 3 (ipykernel)",
   "language": "python",
   "name": "python3"
  },
  "language_info": {
   "codemirror_mode": {
    "name": "ipython",
    "version": 3
   },
   "file_extension": ".py",
   "mimetype": "text/x-python",
   "name": "python",
   "nbconvert_exporter": "python",
   "pygments_lexer": "ipython3",
   "version": "3.11.5"
  }
 },
 "nbformat": 4,
 "nbformat_minor": 5
}
